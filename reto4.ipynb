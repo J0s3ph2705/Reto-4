number=input("N�mero? ")
if int(number)>=97 and int(number)<=122:
    print("El n�mero pertenece a una letra min�scula")
else:
    print("El n�mero no pertenece a una letra min�scula")


caracter=input("C�racter? ")
codigo=ord(caracter)
if int(codigo)%2==0:
    print("El c�racter tiene un c�digo ASCII par")
else:
    print("El c�racter no tiene un c�digo ASCII par")



caracter=input("C�racter? ")
if ord(caracter)>= 48 and ord(caracter)<= 57:
    print("El c�racter es d�gito")
else:
    print("El c�racter no es d�gito")


numero=input("N�mero? ")
if int(numero)>0: 
    print("El n�mero "+str(numero)+ " es positivo")
elif int(numero)==0:
    print("El n�mero 0 es el neutro para la suma")
else:
    print("El n�mero "+str(numero)+" es negativo")


lado1=input("Lado 1? ")
lado2=input("Lado 2? ")
lado3=input("Lado 3? ")
if int(lado1)+int(lado2)>int(lado3)and int(lado1)+int(lado3)>int(lado2): 
    print("Se puede formar el tri�ngulo")
else:
    print("No se puede formar el tri�ngulo")

